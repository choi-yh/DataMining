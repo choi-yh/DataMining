{
  "nbformat": 4,
  "nbformat_minor": 0,
  "metadata": {
    "colab": {
      "name": "4_1_XOR.ipynb",
      "provenance": [],
      "authorship_tag": "ABX9TyN0oLj1Jv5Ubnnb7E5ufyZv",
      "include_colab_link": true
    },
    "kernelspec": {
      "name": "python3",
      "display_name": "Python 3"
    }
  },
  "cells": [
    {
      "cell_type": "markdown",
      "metadata": {
        "id": "view-in-github",
        "colab_type": "text"
      },
      "source": [
        "<a href=\"https://colab.research.google.com/github/choi-yh/DataMining/blob/master/4_1_XOR.ipynb\" target=\"_parent\"><img src=\"https://colab.research.google.com/assets/colab-badge.svg\" alt=\"Open In Colab\"/></a>"
      ]
    },
    {
      "cell_type": "code",
      "metadata": {
        "id": "xHvw6qZWKgnE",
        "colab_type": "code",
        "outputId": "d5ac2c5a-7b4a-4bac-de7d-a7fa9a83a2b5",
        "colab": {
          "base_uri": "https://localhost:8080/",
          "height": 87
        }
      },
      "source": [
        "# Hidden layer를 통해 xor 문제를 해결\n",
        "# 가중치 W, b를 구하는 것이 문제이다.\n",
        "\n",
        "import numpy as np\n",
        "\n",
        "def Sigmoid(x):\n",
        "    return 1 / (1 + np.exp(-x))\n",
        "\n",
        "x = np.array([[0, 0], [0, 1], [1, 0], [1, 1]])\n",
        "\n",
        "w1 = np.array([[-2, 5, 4], [3, 6, 3]])\n",
        "b1 = np.array([2, -2, -5])\n",
        "\n",
        "w2 = np.array([[-4], [8], [-8]])\n",
        "\n",
        "h = Sigmoid(np.dot(x, w1) + b1)\n",
        "y = Sigmoid(np.dot(h, w2))\n",
        "\n",
        "print(y)"
      ],
      "execution_count": 0,
      "outputs": [
        {
          "output_type": "stream",
          "text": [
            "[[0.06766597]\n",
            " [0.94927397]\n",
            " [0.96979454]\n",
            " [0.0542867 ]]\n"
          ],
          "name": "stdout"
        }
      ]
    },
    {
      "cell_type": "code",
      "metadata": {
        "id": "0LGRyNuoLUSx",
        "colab_type": "code",
        "colab": {}
      },
      "source": [
        ""
      ],
      "execution_count": 0,
      "outputs": []
    }
  ]
}