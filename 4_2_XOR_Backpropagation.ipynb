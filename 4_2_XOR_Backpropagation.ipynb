{
  "nbformat": 4,
  "nbformat_minor": 0,
  "metadata": {
    "colab": {
      "name": "4_2_XOR_Backpropagation.ipynb",
      "provenance": [],
      "collapsed_sections": [],
      "authorship_tag": "ABX9TyMNZJrGs5xj5elAtjGpPayC",
      "include_colab_link": true
    },
    "kernelspec": {
      "name": "python3",
      "display_name": "Python 3"
    }
  },
  "cells": [
    {
      "cell_type": "markdown",
      "metadata": {
        "id": "view-in-github",
        "colab_type": "text"
      },
      "source": [
        "<a href=\"https://colab.research.google.com/github/choi-yh/DataMining/blob/master/4_2_XOR_Backpropagation.ipynb\" target=\"_parent\"><img src=\"https://colab.research.google.com/assets/colab-badge.svg\" alt=\"Open In Colab\"/></a>"
      ]
    },
    {
      "cell_type": "code",
      "metadata": {
        "id": "EhfpSipFLugg",
        "colab_type": "code",
        "colab": {}
      },
      "source": [
        "# 수식을 통한 backpropagation 계산\n",
        "\n",
        "import numpy as np\n",
        "\n",
        "def Sigmoid(x):\n",
        "    return 1 / (1 + np.exp(-x))\n",
        "\n",
        "lamda = 1\n",
        "x = np.array([[0, 0], [0, 1], [1, 0], [1, 1]])\n",
        "t = np.array([[0], [1], [1], [0]])\n",
        "\n",
        "w1 = 2 * np.random.rand(2, 3) - 1\n",
        "b1 = 2 * np.random.rand(1, 3) - 1\n",
        "w2 = 2* np.random.rand(3, 1) - 1"
      ],
      "execution_count": 0,
      "outputs": []
    },
    {
      "cell_type": "code",
      "metadata": {
        "id": "TNh82EWeMPTD",
        "colab_type": "code",
        "outputId": "765d2963-76b6-4326-f141-dbbb5314a8bb",
        "colab": {
          "base_uri": "https://localhost:8080/",
          "height": 87
        }
      },
      "source": [
        "for i in range(1000):\n",
        "    h = Sigmoid(np.dot(x, w1) + b1)\n",
        "    y = Sigmoid(np.dot(h, w2))\n",
        "    deltaY = np.multiply(y-t, np.multiply(y, (1-y)))\n",
        "    temp = np.multiply(w2.transpose(), np.multiply(h, (1-h)))\n",
        "    deltaH = deltaY * temp\n",
        "    \n",
        "    w2 = w2 - np.dot(h.transpose(), lamda * deltaY)\n",
        "    w1 = w1 - np.dot(x.transpose(), lamda * deltaH)\n",
        "    b1 = b1 - lamda * deltaH\n",
        "print(y)"
      ],
      "execution_count": 0,
      "outputs": [
        {
          "output_type": "stream",
          "text": [
            "[[0.01758011]\n",
            " [0.98151738]\n",
            " [0.98172398]\n",
            " [0.01778842]]\n"
          ],
          "name": "stdout"
        }
      ]
    },
    {
      "cell_type": "code",
      "metadata": {
        "id": "ovPJTpXMM1-2",
        "colab_type": "code",
        "colab": {}
      },
      "source": [
        ""
      ],
      "execution_count": 0,
      "outputs": []
    }
  ]
}