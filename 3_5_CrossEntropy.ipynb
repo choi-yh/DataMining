{
  "nbformat": 4,
  "nbformat_minor": 0,
  "metadata": {
    "colab": {
      "name": "3_5_CrossEntropy.ipynb",
      "provenance": [],
      "collapsed_sections": [],
      "authorship_tag": "ABX9TyMdTxSuBc1m5lGZU9eOKetb",
      "include_colab_link": true
    },
    "kernelspec": {
      "name": "python3",
      "display_name": "Python 3"
    }
  },
  "cells": [
    {
      "cell_type": "markdown",
      "metadata": {
        "id": "view-in-github",
        "colab_type": "text"
      },
      "source": [
        "<a href=\"https://colab.research.google.com/github/choi-yh/DataMining/blob/master/3_5_CrossEntropy.ipynb\" target=\"_parent\"><img src=\"https://colab.research.google.com/assets/colab-badge.svg\" alt=\"Open In Colab\"/></a>"
      ]
    },
    {
      "cell_type": "code",
      "metadata": {
        "id": "Py8LzUJQ9UA8",
        "colab_type": "code",
        "outputId": "9f9b5a8d-5415-44b1-ddc1-535fa1d972ef",
        "colab": {
          "base_uri": "https://localhost:8080/",
          "height": 52
        }
      },
      "source": [
        "import math\n",
        "y = [0, 1, 1, 0]\n",
        "hypothesis = [0.3, 0.7, 0.6, 0.2]\n",
        "\n",
        "sum = 0\n",
        "for i in range(4):\n",
        "    sum += -y[i] * math.log(hypothesis[i]) - (1 - y[i]) * (1 - math.log(hypothesis[i]))\n",
        "crossEntropy = sum / 4\n",
        "print(crossEntropy)\n",
        "\n",
        "y1Hot = [[1, 0], [0, 1], [0, 1], [1, 0]]\n",
        "hypothesis1Hot = [[0.7, 0.3], [0.3, 0.7], [0.4, 0.6], [0.8, 0.2]]\n",
        "\n",
        "sum1 = 0\n",
        "for i in range(4):\n",
        "    sum2 = 0\n",
        "    for j in range(2):\n",
        "        sum2 += -y1Hot[i][j] * math.log(hypothesis1Hot[i][j])\n",
        "    sum1 += sum2\n",
        "crossEntropy1Hot = sum1 / 4\n",
        "print(crossEntropy1Hot)"
      ],
      "execution_count": 0,
      "outputs": [
        {
          "output_type": "stream",
          "text": [
            "-0.9864775372638284\n",
            "0.36182976573941633\n"
          ],
          "name": "stdout"
        }
      ]
    },
    {
      "cell_type": "code",
      "metadata": {
        "id": "gynoZW69-X5a",
        "colab_type": "code",
        "colab": {}
      },
      "source": [
        ""
      ],
      "execution_count": 0,
      "outputs": []
    }
  ]
}