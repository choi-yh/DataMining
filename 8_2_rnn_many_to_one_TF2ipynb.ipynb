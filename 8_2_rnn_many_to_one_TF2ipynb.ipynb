{
  "nbformat": 4,
  "nbformat_minor": 0,
  "metadata": {
    "colab": {
      "name": "8_2_rnn_many-to-one_TF2ipynb",
      "provenance": [],
      "collapsed_sections": [],
      "authorship_tag": "ABX9TyPtiolQxM05QkYJf2fw6Pyt",
      "include_colab_link": true
    },
    "kernelspec": {
      "name": "python3",
      "display_name": "Python 3"
    }
  },
  "cells": [
    {
      "cell_type": "markdown",
      "metadata": {
        "id": "view-in-github",
        "colab_type": "text"
      },
      "source": [
        "<a href=\"https://colab.research.google.com/github/choi-yh/DataMining/blob/master/8_2_rnn_many_to_one_TF2ipynb.ipynb\" target=\"_parent\"><img src=\"https://colab.research.google.com/assets/colab-badge.svg\" alt=\"Open In Colab\"/></a>"
      ]
    },
    {
      "cell_type": "markdown",
      "metadata": {
        "id": "Q1nkfX-Y91NV",
        "colab_type": "text"
      },
      "source": [
        "* many to one RNN은 단어 시퀀스를 판별하는 문제로 예를 들어, 영화평을 입력하면 부정인지 긍정인지 판단하는 것.  \n",
        "* 문장은 Tokenization을 통해 단어들의 모음으로 변환되고 이는 다시 one-hot encoding을 통해 수치로 변환된다."
      ]
    },
    {
      "cell_type": "code",
      "metadata": {
        "id": "gX-A_E3C9KGM",
        "colab_type": "code",
        "colab": {}
      },
      "source": [
        "import numpy as np\n",
        "import tensorflow as tf\n",
        "import matplotlib.pyplot as plt\n",
        "plt.style.use('ggplot')\n",
        "%matplotlib inline\n",
        "\n",
        "from tensorflow import keras\n",
        "from tensorflow.keras import layers\n",
        "from tensorflow.keras import Sequential, Model\n",
        "from tensorflow.keras.preprocessing.sequence import pad_sequences"
      ],
      "execution_count": null,
      "outputs": []
    },
    {
      "cell_type": "markdown",
      "metadata": {
        "id": "87JxenM69mC9",
        "colab_type": "text"
      },
      "source": [
        "### Preparing dataset"
      ]
    },
    {
      "cell_type": "markdown",
      "metadata": {
        "id": "gb3Lmu7S-pBM",
        "colab_type": "text"
      },
      "source": [
        "* words의 모든 문자를 join하고 set에 저장한 후, 다시 리스트에 저장한다.  \n",
        "이후 <pad> 라는 \"0\"에 해당하는 문자를 삽입한다.  \n",
        "이후, index -> character, character -> index로 반환하는 딕셔너리를 생성한다."
      ]
    },
    {
      "cell_type": "code",
      "metadata": {
        "id": "ax0Qx0j79paq",
        "colab_type": "code",
        "colab": {
          "base_uri": "https://localhost:8080/",
          "height": 90
        },
        "outputId": "3f36f90f-9bcd-4139-fc6d-2309fe6babee"
      },
      "source": [
        "# example data\n",
        "words = ['good', 'bad', 'worse', 'so good']\n",
        "y_data = [[1], [0], [0], [1]]\n",
        "\n",
        "# creating a token dictionary\n",
        "char_set = ['<pad>'] + sorted(list(set(''.join(words))))\n",
        "idx2char = {idx: char for idx, char in enumerate(char_set)}\n",
        "char2idx = {char: idx for idx, char in enumerate(char_set)}\n",
        "\n",
        "print(char_set)\n",
        "print(idx2char)\n",
        "print(char2idx)"
      ],
      "execution_count": null,
      "outputs": [
        {
          "output_type": "stream",
          "text": [
            "['<pad>', ' ', 'a', 'b', 'd', 'e', 'g', 'o', 'r', 's', 'w']\n",
            "{0: '<pad>', 1: ' ', 2: 'a', 3: 'b', 4: 'd', 5: 'e', 6: 'g', 7: 'o', 8: 'r', 9: 's', 10: 'w'}\n",
            "{'<pad>': 0, ' ': 1, 'a': 2, 'b': 3, 'd': 4, 'e': 5, 'g': 6, 'o': 7, 'r': 8, 's': 9, 'w': 10}\n"
          ],
          "name": "stdout"
        }
      ]
    },
    {
      "cell_type": "code",
      "metadata": {
        "id": "pawnNjcN-YUr",
        "colab_type": "code",
        "colab": {
          "base_uri": "https://localhost:8080/",
          "height": 52
        },
        "outputId": "b13d28ce-62f8-4138-a8b1-16ccf7565d34"
      },
      "source": [
        "# converting sequence of tokens to sequence of indices\n",
        "x_data = list(map(lambda word: [char2idx.get(char) for char in word], words))\n",
        "x_data_len = list(map(lambda word: len(word), x_data))\n",
        "\n",
        "print(x_data)\n",
        "print(x_data_len)"
      ],
      "execution_count": null,
      "outputs": [
        {
          "output_type": "stream",
          "text": [
            "[[6, 7, 7, 4], [3, 2, 4], [10, 7, 8, 9, 5], [9, 7, 1, 6, 7, 7, 4]]\n",
            "[4, 3, 5, 7]\n"
          ],
          "name": "stdout"
        }
      ]
    },
    {
      "cell_type": "code",
      "metadata": {
        "id": "jbUFEUdj_MbI",
        "colab_type": "code",
        "colab": {
          "base_uri": "https://localhost:8080/",
          "height": 158
        },
        "outputId": "b009e6ce-81a9-4852-8ef7-168f6f20ebf5"
      },
      "source": [
        "# x_data의 길이가 다른 것을 보완하기 위해 padding을 사용\n",
        "# padding the sequence of indices\n",
        "max_sequence = 10\n",
        "x_data = pad_sequences(sequences=x_data, maxlen=max_sequence,\n",
        "                       padding='post', truncating='post')\n",
        "y_data = np.array(y_data)\n",
        "\n",
        "# checking data\n",
        "print(x_data)\n",
        "print(y_data)"
      ],
      "execution_count": null,
      "outputs": [
        {
          "output_type": "stream",
          "text": [
            "[[ 6  7  7  4  0  0  0  0  0  0]\n",
            " [ 3  2  4  0  0  0  0  0  0  0]\n",
            " [10  7  8  9  5  0  0  0  0  0]\n",
            " [ 9  7  1  6  7  7  4  0  0  0]]\n",
            "[[1]\n",
            " [0]\n",
            " [0]\n",
            " [1]]\n"
          ],
          "name": "stdout"
        }
      ]
    },
    {
      "cell_type": "markdown",
      "metadata": {
        "id": "LW4Qxfpj_jjc",
        "colab_type": "text"
      },
      "source": [
        "### Creating model"
      ]
    },
    {
      "cell_type": "code",
      "metadata": {
        "id": "GHxZbuk9ALAK",
        "colab_type": "code",
        "colab": {}
      },
      "source": [
        "# creating simple rnn for \"many to one\" classification\n",
        "input_dim = len(char2idx)\n",
        "output_dim = len(char2idx)\n",
        "one_hot = np.eye(len(char2idx))\n",
        "hidden_size = 10\n",
        "num_classes = 2\n",
        "\n",
        "model = Sequential()\n",
        "model.add(layers.Embedding(input_dim=input_dim, output_dim=output_dim,\n",
        "                           mask_zero=True, input_length=max_sequence,\n",
        "                           embeddings_initializer=keras.initializers.Constant(one_hot)))\n",
        "model.add(layers.SimpleRNN(units=hidden_size))\n",
        "model.add(layers.Dense(units=num_classes))"
      ],
      "execution_count": null,
      "outputs": []
    },
    {
      "cell_type": "code",
      "metadata": {
        "id": "llcJEZI8BHKP",
        "colab_type": "code",
        "colab": {
          "base_uri": "https://localhost:8080/",
          "height": 263
        },
        "outputId": "d24a6437-2369-4063-becf-14a8fbd911ea"
      },
      "source": [
        "model.summary()"
      ],
      "execution_count": null,
      "outputs": [
        {
          "output_type": "stream",
          "text": [
            "Model: \"sequential\"\n",
            "_________________________________________________________________\n",
            "Layer (type)                 Output Shape              Param #   \n",
            "=================================================================\n",
            "embedding (Embedding)        (None, 10, 11)            121       \n",
            "_________________________________________________________________\n",
            "simple_rnn (SimpleRNN)       (None, 10)                220       \n",
            "_________________________________________________________________\n",
            "dense (Dense)                (None, 2)                 22        \n",
            "=================================================================\n",
            "Total params: 363\n",
            "Trainable params: 363\n",
            "Non-trainable params: 0\n",
            "_________________________________________________________________\n"
          ],
          "name": "stdout"
        }
      ]
    },
    {
      "cell_type": "code",
      "metadata": {
        "id": "ZQ3JOFchBIuT",
        "colab_type": "code",
        "colab": {
          "base_uri": "https://localhost:8080/",
          "height": 87
        },
        "outputId": "3f85a7f3-2174-4524-db68-66096911db87"
      },
      "source": [
        "x_data"
      ],
      "execution_count": null,
      "outputs": [
        {
          "output_type": "execute_result",
          "data": {
            "text/plain": [
              "array([[ 6,  7,  7,  4,  0,  0,  0,  0,  0,  0],\n",
              "       [ 3,  2,  4,  0,  0,  0,  0,  0,  0,  0],\n",
              "       [10,  7,  8,  9,  5,  0,  0,  0,  0,  0],\n",
              "       [ 9,  7,  1,  6,  7,  7,  4,  0,  0,  0]], dtype=int32)"
            ]
          },
          "metadata": {
            "tags": []
          },
          "execution_count": 12
        }
      ]
    },
    {
      "cell_type": "code",
      "metadata": {
        "id": "aelhVQ4nBPbQ",
        "colab_type": "code",
        "colab": {
          "base_uri": "https://localhost:8080/",
          "height": 1000
        },
        "outputId": "181cb57b-8665-4fa3-90bb-36789fe05370"
      },
      "source": [
        "model.compile(optimizer='adam', loss='sparse_categorical_crossentropy', metrics=['accuracy'])\n",
        "model.fit(x_data, y_data, epochs=30)"
      ],
      "execution_count": null,
      "outputs": [
        {
          "output_type": "stream",
          "text": [
            "Epoch 1/30\n",
            "1/1 [==============================] - 0s 1ms/step - loss: 3.9692 - accuracy: 0.7500\n",
            "Epoch 2/30\n",
            "1/1 [==============================] - 0s 1ms/step - loss: 3.9544 - accuracy: 0.7500\n",
            "Epoch 3/30\n",
            "1/1 [==============================] - 0s 1ms/step - loss: 3.9387 - accuracy: 0.7500\n",
            "Epoch 4/30\n",
            "1/1 [==============================] - 0s 2ms/step - loss: 3.9216 - accuracy: 0.7500\n",
            "Epoch 5/30\n",
            "1/1 [==============================] - 0s 1ms/step - loss: 3.9032 - accuracy: 0.7500\n",
            "Epoch 6/30\n",
            "1/1 [==============================] - 0s 1ms/step - loss: 3.8830 - accuracy: 0.7500\n",
            "Epoch 7/30\n",
            "1/1 [==============================] - 0s 1ms/step - loss: 3.8608 - accuracy: 0.7500\n",
            "Epoch 8/30\n",
            "1/1 [==============================] - 0s 1ms/step - loss: 3.8361 - accuracy: 0.7500\n",
            "Epoch 9/30\n",
            "1/1 [==============================] - 0s 1ms/step - loss: 3.8084 - accuracy: 0.7500\n",
            "Epoch 10/30\n",
            "1/1 [==============================] - 0s 1ms/step - loss: 3.7768 - accuracy: 0.7500\n",
            "Epoch 11/30\n",
            "1/1 [==============================] - 0s 1ms/step - loss: 3.7401 - accuracy: 0.7500\n",
            "Epoch 12/30\n",
            "1/1 [==============================] - 0s 2ms/step - loss: 3.6966 - accuracy: 0.7500\n",
            "Epoch 13/30\n",
            "1/1 [==============================] - 0s 2ms/step - loss: 3.6431 - accuracy: 0.7500\n",
            "Epoch 14/30\n",
            "1/1 [==============================] - 0s 2ms/step - loss: 3.5742 - accuracy: 0.7500\n",
            "Epoch 15/30\n",
            "1/1 [==============================] - 0s 1ms/step - loss: 3.4785 - accuracy: 0.7500\n",
            "Epoch 16/30\n",
            "1/1 [==============================] - 0s 2ms/step - loss: 3.3239 - accuracy: 0.7500\n",
            "Epoch 17/30\n",
            "1/1 [==============================] - 0s 1ms/step - loss: 2.9164 - accuracy: 0.7500\n",
            "Epoch 18/30\n",
            "1/1 [==============================] - 0s 2ms/step - loss: 0.1733 - accuracy: 0.7500\n",
            "Epoch 19/30\n",
            "1/1 [==============================] - 0s 1ms/step - loss: 0.1733 - accuracy: 0.7500\n",
            "Epoch 20/30\n",
            "1/1 [==============================] - 0s 2ms/step - loss: 0.1733 - accuracy: 0.7500\n",
            "Epoch 21/30\n",
            "1/1 [==============================] - 0s 1ms/step - loss: 0.1733 - accuracy: 0.7500\n",
            "Epoch 22/30\n",
            "1/1 [==============================] - 0s 1ms/step - loss: 0.1733 - accuracy: 0.7500\n",
            "Epoch 23/30\n",
            "1/1 [==============================] - 0s 2ms/step - loss: 0.1733 - accuracy: 0.7500\n",
            "Epoch 24/30\n",
            "1/1 [==============================] - 0s 1ms/step - loss: 0.1733 - accuracy: 0.7500\n",
            "Epoch 25/30\n",
            "1/1 [==============================] - 0s 1ms/step - loss: 0.1733 - accuracy: 0.7500\n",
            "Epoch 26/30\n",
            "1/1 [==============================] - 0s 3ms/step - loss: 0.1733 - accuracy: 0.7500\n",
            "Epoch 27/30\n",
            "1/1 [==============================] - 0s 1ms/step - loss: 0.1733 - accuracy: 1.0000\n",
            "Epoch 28/30\n",
            "1/1 [==============================] - 0s 1ms/step - loss: 0.1733 - accuracy: 1.0000\n",
            "Epoch 29/30\n",
            "1/1 [==============================] - 0s 2ms/step - loss: 0.1733 - accuracy: 1.0000\n",
            "Epoch 30/30\n",
            "1/1 [==============================] - 0s 2ms/step - loss: 0.1733 - accuracy: 1.0000\n"
          ],
          "name": "stdout"
        },
        {
          "output_type": "execute_result",
          "data": {
            "text/plain": [
              "<tensorflow.python.keras.callbacks.History at 0x7f713e681080>"
            ]
          },
          "metadata": {
            "tags": []
          },
          "execution_count": 13
        }
      ]
    },
    {
      "cell_type": "code",
      "metadata": {
        "id": "pjKv7pmQBZm_",
        "colab_type": "code",
        "colab": {
          "base_uri": "https://localhost:8080/",
          "height": 87
        },
        "outputId": "972ca049-2914-45cb-f15d-fc304a077a0a"
      },
      "source": [
        "yhat = model.predict(x_data)\n",
        "yhat = np.argmax(yhat, axis=-1)\n",
        "print(y_data, yhat)"
      ],
      "execution_count": null,
      "outputs": [
        {
          "output_type": "stream",
          "text": [
            "[[1]\n",
            " [0]\n",
            " [0]\n",
            " [1]] [1 0 0 1]\n"
          ],
          "name": "stdout"
        }
      ]
    },
    {
      "cell_type": "code",
      "metadata": {
        "id": "KzF7LZKuBe7g",
        "colab_type": "code",
        "colab": {}
      },
      "source": [
        ""
      ],
      "execution_count": null,
      "outputs": []
    }
  ]
}