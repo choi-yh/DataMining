{
  "nbformat": 4,
  "nbformat_minor": 0,
  "metadata": {
    "colab": {
      "name": "6_1_cnnToyImage.ipynb",
      "provenance": [],
      "collapsed_sections": [],
      "authorship_tag": "ABX9TyMr7tynoua/Gs7KvSG7s7zo",
      "include_colab_link": true
    },
    "kernelspec": {
      "name": "python3",
      "display_name": "Python 3"
    }
  },
  "cells": [
    {
      "cell_type": "markdown",
      "metadata": {
        "id": "view-in-github",
        "colab_type": "text"
      },
      "source": [
        "<a href=\"https://colab.research.google.com/github/choi-yh/DataMining/blob/master/6_1_cnnToyImage.ipynb\" target=\"_parent\"><img src=\"https://colab.research.google.com/assets/colab-badge.svg\" alt=\"Open In Colab\"/></a>"
      ]
    },
    {
      "cell_type": "code",
      "metadata": {
        "id": "thLVA9mzvIt_",
        "colab_type": "code",
        "colab": {}
      },
      "source": [
        "import tensorflow as tf\n",
        "import numpy as np\n",
        "import matplotlib.pyplot as plt"
      ],
      "execution_count": 0,
      "outputs": []
    },
    {
      "cell_type": "code",
      "metadata": {
        "id": "MigR45tPvQ_z",
        "colab_type": "code",
        "outputId": "c65af50b-e53e-4ad5-cf58-6277f56b5b72",
        "colab": {
          "base_uri": "https://localhost:8080/",
          "height": 286
        }
      },
      "source": [
        "image = np.array([[[[1], [2], [3]],\n",
        "                  [[4], [5], [6]],\n",
        "                  [[7], [8], [9]]]], dtype=np.float32)\n",
        "\n",
        "print(image.shape) # 처음 1은 한 장, 3,3은 3 by 3 픽셀, 마지막 1은 1 color를 의미\n",
        "\n",
        "plt.imshow(image.reshape(3, 3), cmap='Greys')\n",
        "plt.show()"
      ],
      "execution_count": 0,
      "outputs": [
        {
          "output_type": "stream",
          "text": [
            "(1, 3, 3, 1)\n"
          ],
          "name": "stdout"
        },
        {
          "output_type": "display_data",
          "data": {
            "image/png": "[encoded data removed]",
            "text/plain": [
              "<Figure size 432x288 with 1 Axes>"
            ]
          },
          "metadata": {
            "tags": [],
            "needs_background": "light"
          }
        }
      ]
    },
    {
      "cell_type": "code",
      "metadata": {
        "id": "5lKffzW-vpvW",
        "colab_type": "code",
        "outputId": "b95869ce-1bec-4fca-acbb-4e75fdf90149",
        "colab": {
          "base_uri": "https://localhost:8080/",
          "height": 122
        }
      },
      "source": [
        "weight = tf.constant([[[[1.]], [[1.]]],\n",
        "                       [[[1.]], [[1.]]]])\n",
        "print('weight shape: ', weight.shape)\n",
        "\n",
        "conv2d = tf.nn.conv2d(image, weight, strides=[1,1,1,1], padding='VALID')\n",
        "conv2d_img = conv2d.numpy()\n",
        "print(\"conv2d_img.shape: \", conv2d_img, conv2d_img.shape)"
      ],
      "execution_count": 0,
      "outputs": [
        {
          "output_type": "stream",
          "text": [
            "weight shape:  (2, 2, 1, 1)\n",
            "conv2d_img.shape:  [[[[12.]\n",
            "   [16.]]\n",
            "\n",
            "  [[24.]\n",
            "   [28.]]]] (1, 2, 2, 1)\n"
          ],
          "name": "stdout"
        }
      ]
    },
    {
      "cell_type": "code",
      "metadata": {
        "id": "d_HRZA1HxgeC",
        "colab_type": "code",
        "outputId": "9515f831-cbab-494c-94ea-a1fb47479739",
        "colab": {
          "base_uri": "https://localhost:8080/",
          "height": 140
        }
      },
      "source": [
        "# 이미지가 color인 경우\n",
        "\n",
        "image = np.array([[[[1,1,1], [2,2,2], [3,3,3]],\n",
        "                   [[4,4,4], [5,5,5], [6,6,6]],\n",
        "                  [[7,7,7], [8,8,8], [9,9,9]]]])\n",
        "print('image.shape: ', image.shape)\n",
        "\n",
        "weight = tf.constant([[[[1.],[1.],[1.]], [[1.],[1.],[1.]]],\n",
        "                       [[[1.],[1.],[1.]], [[1.],[1.],[1.]]]])\n",
        "print('weight.shape: ', weight.shape)\n",
        "\n",
        "conv2d = tf.nn.conv2d(image, weight, strides=[1,1,1,1], padding='VALID')\n",
        "conv2d_img = conv2d.numpy()\n",
        "print(\"conv2d_img.shape: \", conv2d_img)"
      ],
      "execution_count": 0,
      "outputs": [
        {
          "output_type": "stream",
          "text": [
            "image.shape:  (1, 3, 3, 3)\n",
            "weight.shape:  (2, 2, 3, 1)\n",
            "conv2d_img.shape:  [[[[36.]\n",
            "   [48.]]\n",
            "\n",
            "  [[72.]\n",
            "   [84.]]]]\n"
          ],
          "name": "stdout"
        }
      ]
    },
    {
      "cell_type": "code",
      "metadata": {
        "id": "b3zA-U8p1Ytk",
        "colab_type": "code",
        "outputId": "c252afb5-eab1-4243-e5c2-a0ab5e6bf711",
        "colab": {
          "base_uri": "https://localhost:8080/",
          "height": 774
        }
      },
      "source": [
        "# Convolutional Layer 층을 여러 개로 하기 위해서는 weight를 여러 개 주면 된다.\n",
        "\n",
        "image = np.array([[[[1],[2],[3]],\n",
        "                   [[4],[5],[6]],\n",
        "                   [[7],[8],[9]]]], dtype=np.float32)\n",
        "\n",
        "weight = tf.constant([[[[1.,10.,-1.]], [[1.,10.,-1.]]],\n",
        "                       [[[1.,10.,-1.]], [[1., 10., -1.]]]])\n",
        "print('weight.shape: ', weight.shape)\n",
        "\n",
        "conv2d = tf.nn.conv2d(image, weight, strides=[1,1,1,1], padding='SAME')\n",
        "conv2d_img = conv2d.numpy()\n",
        "print(\"conv2d_img\", conv2d_img)\n",
        "\n",
        "conv2d_img = np.swapaxes(conv2d_img, 0, 3)\n",
        "for i, one_img in enumerate(conv2d_img):\n",
        "    print('one_img.reshape(3,3): ', one_img.reshape(3, 3))\n",
        "    plt.subplot(1, 3, i+1), plt.imshow(one_img.reshape(3, 3), cmap='gray')\n",
        "    plt.show()"
      ],
      "execution_count": 0,
      "outputs": [
        {
          "output_type": "stream",
          "text": [
            "weight.shape:  (2, 2, 1, 3)\n",
            "conv2d_img [[[[ 12. 120. -12.]\n",
            "   [ 16. 160. -16.]\n",
            "   [  9.  90.  -9.]]\n",
            "\n",
            "  [[ 24. 240. -24.]\n",
            "   [ 28. 280. -28.]\n",
            "   [ 15. 150. -15.]]\n",
            "\n",
            "  [[ 15. 150. -15.]\n",
            "   [ 17. 170. -17.]\n",
            "   [  9.  90.  -9.]]]]\n",
            "one_img.reshape(3,3):  [[12. 16.  9.]\n",
            " [24. 28. 15.]\n",
            " [15. 17.  9.]]\n"
          ],
          "name": "stdout"
        },
        {
          "output_type": "display_data",
          "data": {
            "image/png": "[encoded data removed]",
            "text/plain": [
              "<Figure size 432x288 with 1 Axes>"
            ]
          },
          "metadata": {
            "tags": [],
            "needs_background": "light"
          }
        },
        {
          "output_type": "stream",
          "text": [
            "one_img.reshape(3,3):  [[120. 160.  90.]\n",
            " [240. 280. 150.]\n",
            " [150. 170.  90.]]\n"
          ],
          "name": "stdout"
        },
        {
          "output_type": "display_data",
          "data": {
            "image/png": "[encoded data removed]",
            "text/plain": [
              "<Figure size 432x288 with 1 Axes>"
            ]
          },
          "metadata": {
            "tags": [],
            "needs_background": "light"
          }
        },
        {
          "output_type": "stream",
          "text": [
            "one_img.reshape(3,3):  [[-12. -16.  -9.]\n",
            " [-24. -28. -15.]\n",
            " [-15. -17.  -9.]]\n"
          ],
          "name": "stdout"
        },
        {
          "output_type": "display_data",
          "data": {
            "image/png": "[encoded data removed]",
            "text/plain": [
              "<Figure size 432x288 with 1 Axes>"
            ]
          },
          "metadata": {
            "tags": [],
            "needs_background": "light"
          }
        }
      ]
    },
    {
      "cell_type": "code",
      "metadata": {
        "id": "T7OsizMJ6f5d",
        "colab_type": "code",
        "colab": {}
      },
      "source": [
        ""
      ],
      "execution_count": 0,
      "outputs": []
    }
  ]
}