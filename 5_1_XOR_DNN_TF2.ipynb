{
  "nbformat": 4,
  "nbformat_minor": 0,
  "metadata": {
    "colab": {
      "name": "5_1_XOR_DNN_TF2.ipynb",
      "provenance": [],
      "collapsed_sections": [],
      "authorship_tag": "ABX9TyPLasmb4oRPvb3de2iFy1tP",
      "include_colab_link": true
    },
    "kernelspec": {
      "name": "python3",
      "display_name": "Python 3"
    }
  },
  "cells": [
    {
      "cell_type": "markdown",
      "metadata": {
        "id": "view-in-github",
        "colab_type": "text"
      },
      "source": [
        "<a href=\"https://colab.research.google.com/github/choi-yh/DataMining/blob/master/5_1_XOR_DNN_TF2.ipynb\" target=\"_parent\"><img src=\"https://colab.research.google.com/assets/colab-badge.svg\" alt=\"Open In Colab\"/></a>"
      ]
    },
    {
      "cell_type": "code",
      "metadata": {
        "id": "3fKwSDZLbYzD",
        "colab_type": "code",
        "colab": {}
      },
      "source": [
        "import tensorflow as tf\n",
        "import numpy as np\n",
        "\n",
        "x = np.array([[0, 0], [0, 1], [1, 0], [1, 1]]).astype('float32')\n",
        "y = np.array([[0], [1], [1], [0]]).astype('float32')"
      ],
      "execution_count": 0,
      "outputs": []
    },
    {
      "cell_type": "code",
      "metadata": {
        "id": "d_LNgqjYbhYc",
        "colab_type": "code",
        "colab": {}
      },
      "source": [
        "from tensorflow.keras import layers\n",
        "\n",
        "# 학습이 안됨 (Gradient Vanishing problem)\n",
        "# sigmoid 함수의 입력값의 절대값이 커지면 기울기가 거의 '0'이 되어 가중 값이 더 이상 업데이트가 되지 않는다.\n",
        "\n",
        "actFunc = 'sigmoid'\n",
        "model = tf.keras.Sequential()\n",
        "model.add(layers.Dense(10, activation=actFunc, input_dim=2))\n",
        "model.add(layers.Dense(10, activation=actFunc))\n",
        "model.add(layers.Dense(10, activation=actFunc))\n",
        "model.add(layers.Dense(10, activation=actFunc))\n",
        "model.add(layers.Dense(10, activation=actFunc))\n",
        "model.add(layers.Dense(10, activation=actFunc))\n",
        "model.add(layers.Dense(10, activation=actFunc))\n",
        "model.add(layers.Dense(1, activation='sigmoid'))\n",
        "\n",
        "sgd = tf.keras.optimizers.SGD(learning_rate=0.1)\n",
        "model.compile(optimizer=sgd, loss='binary_crossentropy', metrics=['accuracy'])"
      ],
      "execution_count": 0,
      "outputs": []
    },
    {
      "cell_type": "code",
      "metadata": {
        "id": "vpX_FfsVcNVA",
        "colab_type": "code",
        "outputId": "7c08aa63-1101-453c-a635-55551c83ea94",
        "colab": {
          "base_uri": "https://localhost:8080/",
          "height": 52
        }
      },
      "source": [
        "model.fit(x, y, epochs=10000, batch_size=4, verbose=0)\n",
        "model.evaluate(x, y)"
      ],
      "execution_count": 0,
      "outputs": [
        {
          "output_type": "stream",
          "text": [
            "1/1 [==============================] - 0s 1ms/step - loss: 0.6931 - accuracy: 0.5000\n"
          ],
          "name": "stdout"
        },
        {
          "output_type": "execute_result",
          "data": {
            "text/plain": [
              "[0.6931473612785339, 0.5]"
            ]
          },
          "metadata": {
            "tags": []
          },
          "execution_count": 13
        }
      ]
    },
    {
      "cell_type": "code",
      "metadata": {
        "id": "FiO-vZ5GcrAC",
        "colab_type": "code",
        "outputId": "d4f052ec-6adf-448c-f17d-88912f5fc690",
        "colab": {
          "base_uri": "https://localhost:8080/",
          "height": 87
        }
      },
      "source": [
        "predicted = model.predict(x)\n",
        "predicted"
      ],
      "execution_count": 0,
      "outputs": [
        {
          "output_type": "execute_result",
          "data": {
            "text/plain": [
              "array([[0.4999981 ],\n",
              "       [0.49999648],\n",
              "       [0.50000316],\n",
              "       [0.5000019 ]], dtype=float32)"
            ]
          },
          "metadata": {
            "tags": []
          },
          "execution_count": 14
        }
      ]
    },
    {
      "cell_type": "code",
      "metadata": {
        "id": "KqES-X1bdwh3",
        "colab_type": "code",
        "outputId": "dd024904-e2b1-4fe3-8cd7-08cae0aea4b9",
        "colab": {
          "base_uri": "https://localhost:8080/",
          "height": 105
        }
      },
      "source": [
        "from tensorflow.keras import layers\n",
        "\n",
        "# relu로 학습을 시킨다\n",
        "actFunc = 'relu'\n",
        "model = tf.keras.Sequential()\n",
        "model.add(layers.Dense(10, activation=actFunc, input_dim=2))\n",
        "model.add(layers.Dense(10, activation=actFunc))\n",
        "model.add(layers.Dense(10, activation=actFunc))\n",
        "model.add(layers.Dense(10, activation=actFunc))\n",
        "model.add(layers.Dense(10, activation=actFunc))\n",
        "model.add(layers.Dense(10, activation=actFunc))\n",
        "model.add(layers.Dense(10, activation=actFunc))\n",
        "model.add(layers.Dense(1, activation='sigmoid')) # 마지막에는 logistic 결과를 내기 위해서 sigmoid 함수를 사용한다.\n",
        "\n",
        "sgd = tf.keras.optimizers.SGD(learning_rate=0.1)\n",
        "model.compile(optimizer=sgd, loss='binary_crossentropy', metrics=['accuracy'])\n",
        "\n",
        "model.fit(x, y, epochs=10000, batch_size=4, verbose=0)\n",
        "model.evaluate(x, y)\n",
        "\n",
        "predicted = model.predict(x)\n",
        "predicted"
      ],
      "execution_count": 0,
      "outputs": [
        {
          "output_type": "stream",
          "text": [
            "1/1 [==============================] - 0s 2ms/step - loss: 2.2144e-05 - accuracy: 1.0000\n"
          ],
          "name": "stdout"
        },
        {
          "output_type": "execute_result",
          "data": {
            "text/plain": [
              "array([[3.8366663e-05],\n",
              "       [9.9999654e-01],\n",
              "       [9.9999607e-01],\n",
              "       [4.2813190e-05]], dtype=float32)"
            ]
          },
          "metadata": {
            "tags": []
          },
          "execution_count": 15
        }
      ]
    },
    {
      "cell_type": "code",
      "metadata": {
        "id": "R38QzA58d9wp",
        "colab_type": "code",
        "colab": {}
      },
      "source": [
        ""
      ],
      "execution_count": 0,
      "outputs": []
    }
  ]
}