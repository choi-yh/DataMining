{
  "nbformat": 4,
  "nbformat_minor": 0,
  "metadata": {
    "colab": {
      "name": "3_3_Logistic_Regression_TF2.ipynb",
      "provenance": [],
      "authorship_tag": "ABX9TyPPDoksRnQkSLKNa9mORP9o",
      "include_colab_link": true
    },
    "kernelspec": {
      "name": "python3",
      "display_name": "Python 3"
    }
  },
  "cells": [
    {
      "cell_type": "markdown",
      "metadata": {
        "id": "view-in-github",
        "colab_type": "text"
      },
      "source": [
        "<a href=\"https://colab.research.google.com/github/choi-yh/DataMining/blob/master/3_3_Logistic_Regression_TF2.ipynb\" target=\"_parent\"><img src=\"https://colab.research.google.com/assets/colab-badge.svg\" alt=\"Open In Colab\"/></a>"
      ]
    },
    {
      "cell_type": "code",
      "metadata": {
        "id": "1qG0j-fozfNm",
        "colab_type": "code",
        "outputId": "e23e4e79-9821-4ee9-f3c9-6593030df6a5",
        "colab": {
          "base_uri": "https://localhost:8080/",
          "height": 140
        }
      },
      "source": [
        "import tensorflow as tf\n",
        "import numpy as np\n",
        "from tensorflow.keras import layers\n",
        "\n",
        "x = np.array([[1], [2], [3], [4], [5], [6]])\n",
        "y = np.array([[0], [0], [0], [1], [1], [1]])\n",
        "\n",
        "model = tf.keras.Sequential()\n",
        "model.add(layers.Dense(1, activation='sigmoid', input_dim=1))\n",
        "sgd = tf.keras.optimizers.SGD(learning_rate=0.01)\n",
        "model.compile(optimizer=sgd, loss='binary_crossentropy')\n",
        "\n",
        "model.fit(x, y, epochs=2000, verbose=0)\n",
        "predicted = model.predict(x)\n",
        "print(predicted)\n",
        "\n",
        "weights = model.layers[0].get_weights()[0]\n",
        "biases = model.layers[0].get_weights()[1]\n",
        "print(weights, biases)"
      ],
      "execution_count": 0,
      "outputs": [
        {
          "output_type": "stream",
          "text": [
            "[[0.2018381 ]\n",
            " [0.34593734]\n",
            " [0.52521724]\n",
            " [0.6982239 ]\n",
            " [0.8287444 ]\n",
            " [0.9100835 ]]\n",
            "[[0.7379]] [-2.1127455]\n"
          ],
          "name": "stdout"
        }
      ]
    },
    {
      "cell_type": "code",
      "metadata": {
        "id": "jkNr5cig0gCM",
        "colab_type": "code",
        "colab": {}
      },
      "source": [
        ""
      ],
      "execution_count": 0,
      "outputs": []
    }
  ]
}