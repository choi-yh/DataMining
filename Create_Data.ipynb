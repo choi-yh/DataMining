{
  "nbformat": 4,
  "nbformat_minor": 0,
  "metadata": {
    "colab": {
      "name": "Create_Data.ipynb",
      "provenance": [],
      "collapsed_sections": [],
      "authorship_tag": "ABX9TyPSlEi8cjORSCiS84xW8s/8",
      "include_colab_link": true
    },
    "kernelspec": {
      "name": "python3",
      "display_name": "Python 3"
    }
  },
  "cells": [
    {
      "cell_type": "markdown",
      "metadata": {
        "id": "view-in-github",
        "colab_type": "text"
      },
      "source": [
        "<a href=\"https://colab.research.google.com/github/choi-yh/DataMining/blob/master/Create_Data.ipynb\" target=\"_parent\"><img src=\"https://colab.research.google.com/assets/colab-badge.svg\" alt=\"Open In Colab\"/></a>"
      ]
    },
    {
      "cell_type": "code",
      "metadata": {
        "id": "nxForPQF96-m",
        "colab_type": "code",
        "outputId": "17deec1a-f09f-43c7-fc70-b76bbdaef458",
        "colab": {
          "base_uri": "https://localhost:8080/",
          "height": 127
        }
      },
      "source": [
        "from google.colab import drive\n",
        "drive.mount('/gdrive')"
      ],
      "execution_count": 0,
      "outputs": [
        {
          "output_type": "stream",
          "text": [
            "Go to this URL in a browser: https://accounts.google.com/o/oauth2/auth?client_id=947318989803-6bn6qk8qdgf4n4g3pfee6491hc0brc4i.apps.googleusercontent.com&redirect_uri=urn%3aietf%3awg%3aoauth%3a2.0%3aoob&response_type=code&scope=email%20https%3a%2f%2fwww.googleapis.com%2fauth%2fdocs.test%20https%3a%2f%2fwww.googleapis.com%2fauth%2fdrive%20https%3a%2f%2fwww.googleapis.com%2fauth%2fdrive.photos.readonly%20https%3a%2f%2fwww.googleapis.com%2fauth%2fpeopleapi.readonly\n",
            "\n",
            "Enter your authorization code:\n",
            "··········\n",
            "Mounted at /gdrive\n"
          ],
          "name": "stdout"
        }
      ]
    },
    {
      "cell_type": "code",
      "metadata": {
        "id": "Kgg2nU7O-A9g",
        "colab_type": "code",
        "colab": {}
      },
      "source": [
        "import numpy as np\n",
        "import matplotlib.pyplot as plt\n",
        "from PIL import Image"
      ],
      "execution_count": 0,
      "outputs": []
    },
    {
      "cell_type": "code",
      "metadata": {
        "id": "HUgSoMfy-UyT",
        "colab_type": "code",
        "outputId": "267531dd-c0fe-4859-fbe5-9a41cfb9dbb1",
        "colab": {
          "base_uri": "https://localhost:8080/",
          "height": 35
        }
      },
      "source": [
        "# https://mc.ai/using-google-colab-for-convolutional-neural-network-with-images/\n",
        "\n",
        "import os\n",
        "os.chdir('/gdrive/My Drive/Python/DataMining/Final/Data/images') # 지정된 경로에 현재 작업 디렉토리 변경\n",
        "os.getcwd() # 현재 작업 디렉토리 반환"
      ],
      "execution_count": 0,
      "outputs": [
        {
          "output_type": "execute_result",
          "data": {
            "text/plain": [
              "'/gdrive/My Drive/Python/DataMining/Final/Data/images'"
            ]
          },
          "metadata": {
            "tags": []
          },
          "execution_count": 5
        }
      ]
    },
    {
      "cell_type": "code",
      "metadata": {
        "id": "cuF2KZ5z-bN4",
        "colab_type": "code",
        "outputId": "14c2d171-ee36-4626-f4d3-9b1413ff5d03",
        "colab": {
          "base_uri": "https://localhost:8080/",
          "height": 35
        }
      },
      "source": [
        "path = '/gdrive/My Drive/Python/DataMining/Final/Data/images'\n",
        "files = os.listdir(path)\n",
        "files.sort()\n",
        "\n",
        "print(files[32], len(files))"
      ],
      "execution_count": 0,
      "outputs": [
        {
          "output_type": "stream",
          "text": [
            "Abyssinian_128.jpg 7390\n"
          ],
          "name": "stdout"
        }
      ]
    },
    {
      "cell_type": "code",
      "metadata": {
        "id": "_SkcNmOe-cCB",
        "colab_type": "code",
        "colab": {}
      },
      "source": [
        "def image_to_array(path):\n",
        "    image = Image.open(path).convert('RGB') # load image\n",
        "    image = image.resize((600, 600)) # resize image\n",
        "    data = np.asarray(image)\n",
        "    return data\n",
        "\n",
        "def get_species(file_name):\n",
        "    _tmp = file_name.split('_')\n",
        "    del _tmp[-1]\n",
        "    name = ''\n",
        "    for word in _tmp:\n",
        "        name += '_' + word\n",
        "    name = name[1:]\n",
        "    return name\n",
        "\n",
        "X = [] \n",
        "y = []\n",
        "\n",
        "import re\n",
        "for file_name in files:\n",
        "    # 종별로 30장 이하로 데이터 생성\n",
        "    num = int(re.findall(\"\\d+\", file_name)[0])\n",
        "    if num < 30:\n",
        "        file_path = path + '/' + file_name\n",
        "        data = image_to_array(file_path)\n",
        "        X.append(data)\n",
        "\n",
        "        species = get_species(file_name)\n",
        "        y.append(species)"
      ],
      "execution_count": 0,
      "outputs": []
    },
    {
      "cell_type": "code",
      "metadata": {
        "id": "JI8BwB5U_e2L",
        "colab_type": "code",
        "outputId": "12a93901-5cd2-4a06-a286-e1871b365710",
        "colab": {
          "base_uri": "https://localhost:8080/",
          "height": 35
        }
      },
      "source": [
        "X = np.array(X)\n",
        "y = np.array(y)\n",
        "\n",
        "X.shape, y.shape"
      ],
      "execution_count": 0,
      "outputs": [
        {
          "output_type": "execute_result",
          "data": {
            "text/plain": [
              "((1000, 600, 600, 3), (1000,))"
            ]
          },
          "metadata": {
            "tags": []
          },
          "execution_count": 10
        }
      ]
    },
    {
      "cell_type": "code",
      "metadata": {
        "id": "Hj3Ts650CzEV",
        "colab_type": "code",
        "colab": {}
      },
      "source": [
        "np.savez('/gdrive/My Drive/Python/DataMining/Final/Data/Xy', x=X, y=y)"
      ],
      "execution_count": 0,
      "outputs": []
    },
    {
      "cell_type": "code",
      "metadata": {
        "id": "rc9jBeqwC1R6",
        "colab_type": "code",
        "colab": {}
      },
      "source": [
        "data = np.load('/gdrive/My Drive/Python/DataMining/Final/Data/Xy.npz')"
      ],
      "execution_count": 0,
      "outputs": []
    },
    {
      "cell_type": "code",
      "metadata": {
        "id": "QzvWQWA5DmLx",
        "colab_type": "code",
        "outputId": "509d8e34-caf6-4bd0-8eba-73b6e77bafaa",
        "colab": {
          "base_uri": "https://localhost:8080/",
          "height": 35
        }
      },
      "source": [
        "data['x'].shape"
      ],
      "execution_count": 0,
      "outputs": [
        {
          "output_type": "execute_result",
          "data": {
            "text/plain": [
              "(1000, 600, 600, 3)"
            ]
          },
          "metadata": {
            "tags": []
          },
          "execution_count": 19
        }
      ]
    },
    {
      "cell_type": "code",
      "metadata": {
        "id": "8Je85mv-DnMM",
        "colab_type": "code",
        "outputId": "2fd6fc6e-4477-48d9-e053-c0918e249ad7",
        "colab": {
          "base_uri": "https://localhost:8080/",
          "height": 35
        }
      },
      "source": [
        "data['y'].shape"
      ],
      "execution_count": 0,
      "outputs": [
        {
          "output_type": "execute_result",
          "data": {
            "text/plain": [
              "(1000,)"
            ]
          },
          "metadata": {
            "tags": []
          },
          "execution_count": 20
        }
      ]
    },
    {
      "cell_type": "code",
      "metadata": {
        "id": "wj2xOJwtDs3P",
        "colab_type": "code",
        "colab": {}
      },
      "source": [
        ""
      ],
      "execution_count": 0,
      "outputs": []
    }
  ]
}